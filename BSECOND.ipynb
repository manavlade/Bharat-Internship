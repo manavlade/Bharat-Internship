{
 "cells": [
  {
   "cell_type": "code",
   "execution_count": 1,
   "id": "6570bcdf-05c4-44e2-a6e1-84268bdb7e1b",
   "metadata": {},
   "outputs": [],
   "source": [
    "from nltk.metrics.distance import edit_distance\n",
    "from nltk.corpus import words"
   ]
  },
  {
   "cell_type": "code",
   "execution_count": 2,
   "id": "c8b95373-141b-41ae-83be-5a85fff92804",
   "metadata": {},
   "outputs": [],
   "source": [
    "def get_suggestion(word, dictionary):\n",
    "    distances = [(edit_distance(word, w), w) for w in dictionary]\n",
    "    return min(distances)[1]"
   ]
  },
  {
   "cell_type": "code",
   "execution_count": 3,
   "id": "867f93c9-a08f-47b8-bdd2-a2710e57487c",
   "metadata": {},
   "outputs": [],
   "source": [
    "import nltk"
   ]
  },
  {
   "cell_type": "code",
   "execution_count": 5,
   "id": "c689f2bf-d726-489b-bad7-4c8f567328d1",
   "metadata": {},
   "outputs": [],
   "source": [
    "dictionary = set(words.words())"
   ]
  },
  {
   "cell_type": "code",
   "execution_count": 6,
   "id": "e2123e13-44d1-4513-8da8-b6af07d105e4",
   "metadata": {},
   "outputs": [],
   "source": [
    "misspelled_word = \"Iec\""
   ]
  },
  {
   "cell_type": "code",
   "execution_count": 8,
   "id": "f5a1c134-9aec-4e25-9bd0-132bbf723259",
   "metadata": {},
   "outputs": [],
   "source": [
    "suggestion = get_suggestion(misspelled_word, dictionary)"
   ]
  },
  {
   "cell_type": "code",
   "execution_count": 9,
   "id": "1d81b28d-cbcd-4180-b064-f9dcd638db70",
   "metadata": {},
   "outputs": [
    {
     "name": "stdout",
     "output_type": "stream",
     "text": [
      "The suggested word for 'Iec' is 'sec'.\n"
     ]
    }
   ],
   "source": [
    "print(f\"The suggested word for '{misspelled_word}' is '{suggestion}'.\")"
   ]
  },
  {
   "cell_type": "code",
   "execution_count": null,
   "id": "e38e2872-d253-4453-bbd4-4aadb9008481",
   "metadata": {},
   "outputs": [],
   "source": []
  }
 ],
 "metadata": {
  "kernelspec": {
   "display_name": "Python 3 (ipykernel)",
   "language": "python",
   "name": "python3"
  },
  "language_info": {
   "codemirror_mode": {
    "name": "ipython",
    "version": 3
   },
   "file_extension": ".py",
   "mimetype": "text/x-python",
   "name": "python",
   "nbconvert_exporter": "python",
   "pygments_lexer": "ipython3",
   "version": "3.11.4"
  }
 },
 "nbformat": 4,
 "nbformat_minor": 5
}
