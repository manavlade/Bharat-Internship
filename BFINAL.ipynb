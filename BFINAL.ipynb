{
 "cells": [
  {
   "cell_type": "code",
   "execution_count": 3,
   "id": "8f1a4533-0d63-4544-86d5-fd4168e1a29f",
   "metadata": {},
   "outputs": [],
   "source": [
    "from googletrans import Translator"
   ]
  },
  {
   "cell_type": "code",
   "execution_count": 4,
   "id": "1c75dee6-9a17-4e5c-a54f-2c758d9108bf",
   "metadata": {},
   "outputs": [],
   "source": [
    "translator = Translator()"
   ]
  },
  {
   "cell_type": "code",
   "execution_count": 10,
   "id": "968c6843-e9cc-4324-a628-fcfc05b76bb9",
   "metadata": {},
   "outputs": [],
   "source": [
    "text = \"Hello I am a Full Stack Web Developer\""
   ]
  },
  {
   "cell_type": "code",
   "execution_count": 11,
   "id": "1e30e066-655a-47b2-8a57-b3f3425d7310",
   "metadata": {},
   "outputs": [],
   "source": [
    "translation = translator.translate(text, src='en', dest='hi')"
   ]
  },
  {
   "cell_type": "code",
   "execution_count": 12,
   "id": "8163fd52-1c3d-46e1-92cc-c4c7379bd755",
   "metadata": {},
   "outputs": [
    {
     "name": "stdout",
     "output_type": "stream",
     "text": [
      "हैलो मैं एक पूर्ण स्टैक वेब डेवलपर हूं\n"
     ]
    }
   ],
   "source": [
    "print(translation.text)"
   ]
  },
  {
   "cell_type": "code",
   "execution_count": null,
   "id": "12833968-ebbc-468c-991c-abd4e854f58a",
   "metadata": {},
   "outputs": [],
   "source": []
  }
 ],
 "metadata": {
  "kernelspec": {
   "display_name": "Python 3 (ipykernel)",
   "language": "python",
   "name": "python3"
  },
  "language_info": {
   "codemirror_mode": {
    "name": "ipython",
    "version": 3
   },
   "file_extension": ".py",
   "mimetype": "text/x-python",
   "name": "python",
   "nbconvert_exporter": "python",
   "pygments_lexer": "ipython3",
   "version": "3.11.4"
  }
 },
 "nbformat": 4,
 "nbformat_minor": 5
}
