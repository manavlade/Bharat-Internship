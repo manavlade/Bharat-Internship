{
 "cells": [
  {
   "cell_type": "code",
   "execution_count": 3,
   "id": "76532aaf-a9f6-48f1-aa69-8f5836523125",
   "metadata": {},
   "outputs": [
    {
     "name": "stdout",
     "output_type": "stream",
     "text": [
      "Hello World\n"
     ]
    }
   ],
   "source": [
    "print(\"Hello World\")"
   ]
  },
  {
   "cell_type": "code",
   "execution_count": 1,
   "id": "77aea898-808e-4ba2-8c00-e5e026423d12",
   "metadata": {},
   "outputs": [],
   "source": [
    "import nltk"
   ]
  },
  {
   "cell_type": "code",
   "execution_count": 2,
   "id": "7309b0ce-b623-4f68-9682-c616d520271f",
   "metadata": {},
   "outputs": [],
   "source": [
    "from nltk.corpus import stopwords\n",
    "from nltk.tokenize import word_tokenize"
   ]
  },
  {
   "cell_type": "code",
   "execution_count": 3,
   "id": "7b23fab6-654f-4877-96a1-e557f7a09199",
   "metadata": {},
   "outputs": [],
   "source": [
    "job_description = \"We are looking for a software engineer with experience in MERN Stack \""
   ]
  },
  {
   "cell_type": "code",
   "execution_count": 4,
   "id": "13308d0f-9fc8-4770-8faa-edb41fd692ea",
   "metadata": {},
   "outputs": [],
   "source": [
    "candidate_resume = \"I am a software engineer with 3 years of experience in MERN Stack\"\n"
   ]
  },
  {
   "cell_type": "code",
   "execution_count": 5,
   "id": "18ad1029-ed09-4987-b4fa-e2d67126c98f",
   "metadata": {},
   "outputs": [
    {
     "name": "stderr",
     "output_type": "stream",
     "text": [
      "[nltk_data] Downloading package punkt to\n",
      "[nltk_data]     C:\\Users\\manav\\AppData\\Roaming\\nltk_data...\n",
      "[nltk_data]   Package punkt is already up-to-date!\n"
     ]
    },
    {
     "data": {
      "text/plain": [
       "True"
      ]
     },
     "execution_count": 5,
     "metadata": {},
     "output_type": "execute_result"
    }
   ],
   "source": [
    "nltk.download('punkt')"
   ]
  },
  {
   "cell_type": "code",
   "execution_count": 6,
   "id": "8cd3c2c5-f136-4c55-ac14-5f9e31530552",
   "metadata": {},
   "outputs": [],
   "source": [
    "job_tokens = word_tokenize(job_description)\n",
    "resume_tokens = word_tokenize(candidate_resume)"
   ]
  },
  {
   "cell_type": "code",
   "execution_count": 7,
   "id": "43e38e83-84d9-4ac8-b27f-d02d5ee9c06e",
   "metadata": {},
   "outputs": [
    {
     "name": "stderr",
     "output_type": "stream",
     "text": [
      "[nltk_data] Downloading package stopwords to\n",
      "[nltk_data]     C:\\Users\\manav\\AppData\\Roaming\\nltk_data...\n",
      "[nltk_data]   Package stopwords is already up-to-date!\n"
     ]
    },
    {
     "data": {
      "text/plain": [
       "True"
      ]
     },
     "execution_count": 7,
     "metadata": {},
     "output_type": "execute_result"
    }
   ],
   "source": [
    "nltk.download('stopwords')"
   ]
  },
  {
   "cell_type": "code",
   "execution_count": 8,
   "id": "0264f580-ad4b-4b3f-9039-3548334903b2",
   "metadata": {},
   "outputs": [],
   "source": [
    "stop_words = set(stopwords.words('english'))\n",
    "job_filtered = [w for w in job_tokens if not w in stop_words]\n",
    "resume_filtered = [w for w in resume_tokens if not w in stop_words]"
   ]
  },
  {
   "cell_type": "code",
   "execution_count": 9,
   "id": "93ee994f-ba66-447f-b597-f3131709ada9",
   "metadata": {},
   "outputs": [],
   "source": [
    "common_words = set(job_filtered).intersection(resume_filtered)"
   ]
  },
  {
   "cell_type": "code",
   "execution_count": 17,
   "id": "52edf0aa-960c-4ec8-9861-a416543a7af4",
   "metadata": {},
   "outputs": [
    {
     "name": "stdout",
     "output_type": "stream",
     "text": [
      "Common words between the job description and candidate's resume: {'machine', 'learning', 'Python', 'experience', 'software', '.', 'engineer'}\n"
     ]
    }
   ],
   "source": [
    "print(\"Common words between the job description and candidate's resume:\", common_words)"
   ]
  },
  {
   "cell_type": "code",
   "execution_count": null,
   "id": "51b95042-79c0-4224-9620-66b12c5d7ed7",
   "metadata": {},
   "outputs": [],
   "source": []
  }
 ],
 "metadata": {
  "kernelspec": {
   "display_name": "Python 3 (ipykernel)",
   "language": "python",
   "name": "python3"
  },
  "language_info": {
   "codemirror_mode": {
    "name": "ipython",
    "version": 3
   },
   "file_extension": ".py",
   "mimetype": "text/x-python",
   "name": "python",
   "nbconvert_exporter": "python",
   "pygments_lexer": "ipython3",
   "version": "3.11.4"
  }
 },
 "nbformat": 4,
 "nbformat_minor": 5
}
